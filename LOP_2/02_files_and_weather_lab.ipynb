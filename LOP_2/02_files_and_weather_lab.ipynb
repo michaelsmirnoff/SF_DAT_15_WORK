{
 "cells": [
  {
   "cell_type": "code",
   "execution_count": 46,
   "metadata": {
    "collapsed": false,
    "scrolled": true
   },
   "outputs": [
    {
     "name": "stdout",
     "output_type": "stream",
     "text": [
      "['country', 'beer_servings', 'spirit_servings', 'wine_servings', 'total_litres_of_pure_alcohol', 'continent']\n",
      "193\n",
      "23\n",
      "45\n",
      "145.43\n",
      "193.78\n"
     ]
    }
   ],
   "source": [
    "'''\n",
    "Lab: Reading and Writing Files in Python\n",
    "'''\n",
    "\n",
    "'''\n",
    "PART 1:\n",
    "Read in drinks.csv\n",
    "Store the header in a list called 'header'\n",
    "Store the data in a list of lists called 'data'\n",
    "Hint: you've already seen this code!\n",
    "'''\n",
    "\n",
    "import csv\n",
    "with open('../data/drinks.csv', 'rU') as f:\n",
    "    header = csv.reader(f).next()\n",
    "    data = [row for row in csv.reader(f)]\n",
    "\n",
    "    '''\n",
    "PART 2:\n",
    "Isolate the beer_servings column in a list of integers called 'beers'\n",
    "Hint: you can use a list comprehension to do this in one line\n",
    "Expected output:\n",
    "    beers == [0, 89, ..., 32, 64]\n",
    "    len(beers) == 193\n",
    "'''\n",
    "print header\n",
    "beers = [row[1] for row in data]\n",
    "print len(beers)\n",
    "\n",
    "'''\n",
    "PART 3:\n",
    "Create separate lists of NA and EU beer servings: 'NA_beers', 'EU_beers'\n",
    "Hint: you can use a list comprehension with a condition\n",
    "Expected output:\n",
    "    NA_beers == [102, 122, ..., 197, 249]\n",
    "    len(NA_beers) == 23\n",
    "    EU_beers == [89, 245, ..., 206, 219]\n",
    "    len(EU_beers) == 45\n",
    "'''\n",
    "NA_beers = [row[1] for row in data if row[5] == \"NA\" ]\n",
    "print len(NA_beers)\n",
    "EU_beers = [row[1] for row in data if row[5] == \"EU\" ]\n",
    "print len(EU_beers)\n",
    "\n",
    "'''\n",
    "PART 4:\n",
    "Calculate the average NA and EU beer servings to 2 decimals: 'NA_avg', 'EU_avg'\n",
    "Hint: don't forget about data types!\n",
    "Expected output:\n",
    "    NA_avg == 145.43\n",
    "    EU_avg == 193.78\n",
    "'''\n",
    "def average_list(numList):\n",
    "    sum = 0\n",
    "    for num in numList:\n",
    "        sum += float(num)\n",
    "    average = sum/len(numList)\n",
    "    return average\n",
    "\n",
    "NA_avg = round( average_list(NA_beers), 2)\n",
    "print NA_avg\n",
    "EU_avg = round( average_list(EU_beers), 2)\n",
    "print EU_avg\n",
    "\n",
    "'''\n",
    "PART 5:\n",
    "Write a CSV file called 'avg_beer.csv' with two columns and three rows.\n",
    "The first row is the column headers: 'continent', 'avg_beer'\n",
    "The second and third rows contain the NA and EU values.\n",
    "Hint: think about what data structure will make this easy\n",
    "Expected output (in the actual file):\n",
    "    continent,avg_beer\n",
    "    NA,145.43\n",
    "    EU,193.78\n",
    "'''\n",
    "avg_beer = {}\n",
    "#avg_beer[\"continent\"] = \"avg_beer\"\n",
    "avg_beer[\"NA\"] = NA_avg\n",
    "avg_beer[\"EU\"] = EU_avg\n",
    "\n",
    "#dict.keys()\n",
    "\n",
    "with open('avg_beer.csv', 'wb') as f:\n",
    "    f.write(\"continent,avg_beer\" + '\\n')\n",
    "    for key in avg_beer.keys():\n",
    "        f.write(str(key) + \",\" + str(avg_beer[key]) + '\\n')\n",
    "        "
   ]
  },
  {
   "cell_type": "code",
   "execution_count": 47,
   "metadata": {
    "collapsed": false
   },
   "outputs": [
    {
     "data": {
      "text/plain": [
       "[<matplotlib.lines.Line2D at 0xaae7e48>]"
      ]
     },
     "execution_count": 47,
     "metadata": {},
     "output_type": "execute_result"
    }
   ],
   "source": [
    "'''\n",
    "Part 6:\n",
    "import requests # a module for reading the web\n",
    "api_endpoint = 'http://api.openweathermap.org/data/2.5/forecast/city'\n",
    "params = {}\n",
    "params['id'] = '745044'\n",
    "params['units'] = 'metric'\n",
    "params['APPID'] = '80575a3090bddc3ce9f363d40cee36c2'\n",
    "request = requests.get(api_endpoint, params = params)\n",
    "'''\n",
    "\n",
    "import requests # a module for reading the web\n",
    "api_endpoint = 'http://api.openweathermap.org/data/2.5/forecast/city'\n",
    "params = {}\n",
    "params['id'] = '745044'\n",
    "params['units'] = 'metric'\n",
    "params['APPID'] = '80575a3090bddc3ce9f363d40cee36c2'\n",
    "request = requests.get(api_endpoint, params = params)\n",
    "\n",
    "# parse out the json from this request\n",
    "data = request.json()\n",
    "\n",
    "# Let's inspect by using the keys method of dictionaries\n",
    "weather_data = data['list']\n",
    "\n",
    "#weather_data = data['list']\n",
    "temperatures = [data_point['main']['temp'] for data_point in weather_data]\n",
    "humidity = [data_point['main']['humidity'] for data_point in weather_data]\n",
    "dates = [data_point['dt'] for data_point in weather_data]\n",
    "\n",
    "from datetime import datetime\n",
    "dates = [datetime.fromtimestamp(epoch) for epoch in dates]\n",
    "\n",
    "import matplotlib.pyplot as plt\n",
    "\n",
    "# Plot two things at once!\n",
    "\n",
    "humidity = [data_point['main']['humidity'] for data_point in weather_data]\n",
    "\n",
    "plt.legend()                                # Create a legend\n",
    "plt.plot(dates, humidity, label='Humidity')\n",
    "plt.plot(dates, temperatures, marker='o', linestyle='--', color='r', label='Temperature')\n",
    "\n",
    "temperatures_normalized = [float(t) / max(temperatures) for t in temperatures]\n",
    "humidity_normalized = [float(h) / max(humidity) for h in humidity]\n",
    "\n",
    "humidity = [data_point['main']['humidity'] for data_point in weather_data]\n",
    "\n",
    "temperatures_normalized = [float(t) / max(temperatures) for t in temperatures]\n",
    "humidity_normalized = [float(h) / max(humidity) for h in humidity]\n",
    "\n",
    "plt.legend()\n",
    "ocs, labels = plt.xticks()                 # get the x tick marks\n",
    "plt.setp(labels, rotation=60)               # rotate the x ticks marks by 60 degrees\n",
    "plt.plot(dates, humidity_normalized, label='Humidity')\n",
    "plt.plot(dates, temperatures_normalized, marker='o', linestyle='--', color='g', label='Temperature')"
   ]
  },
  {
   "cell_type": "code",
   "execution_count": 49,
   "metadata": {
    "collapsed": false
   },
   "outputs": [
    {
     "data": {
      "text/plain": [
       "<matplotlib.collections.PathCollection at 0x216ff98>"
      ]
     },
     "execution_count": 49,
     "metadata": {},
     "output_type": "execute_result"
    }
   ],
   "source": [
    "'''\n",
    "Part 7\n",
    "Create a list of the pressure measurements and plot it against dates\n",
    "'''\n",
    "pressure = [data_point['main']['pressure'] for data_point in weather_data]\n",
    "pressures_normalized = [float(t) / max(pressure) for t in pressure]\n",
    "\n",
    "\n",
    "'''\n",
    "Part 8\n",
    "Make a scatter plot plotting pressure against temperature and humidity\n",
    "'''\n",
    "plt.scatter(temperatures, pressure)\n",
    "plt.scatter(humidity, pressure, color='r')"
   ]
  },
  {
   "cell_type": "code",
   "execution_count": 55,
   "metadata": {
    "collapsed": false
   },
   "outputs": [],
   "source": [
    "'''\n",
    "BONUS:\n",
    "Learn csv.DictReader() and use it to redo Parts 1, 2, and 3.\n",
    "'''\n",
    "import csv\n",
    "csv_file = '../data/drinks.csv'\n",
    "\n",
    "'''\n",
    "PART 1:\n",
    "Read in drinks.csv\n",
    "Store the header in a list called 'header'\n",
    "Store the data in a list of lists called 'data'\n",
    "Hint: you've already seen this code!\n",
    "'''\n",
    "with open(csv_file) as csvfile:\n",
    "    reader = csv.DictReader(csvfile)\n",
    "    for row in reader:\n",
    "        data.append(row)\n",
    "\n"
   ]
  },
  {
   "cell_type": "code",
   "execution_count": 70,
   "metadata": {
    "collapsed": false
   },
   "outputs": [
    {
     "name": "stdout",
     "output_type": "stream",
     "text": [
      "193\n"
     ]
    },
    {
     "data": {
      "text/plain": [
       "\"\\nPART 3:\\nCreate separate lists of NA and EU beer servings: 'NA_beers', 'EU_beers'\\nHint: you can use a list comprehension with a condition\\nExpected output:\\n    NA_beers == [102, 122, ..., 197, 249]\\n    len(NA_beers) == 23\\n    EU_beers == [89, 245, ..., 206, 219]\\n    len(EU_beers) == 45\\n\""
      ]
     },
     "execution_count": 70,
     "metadata": {},
     "output_type": "execute_result"
    }
   ],
   "source": [
    "'''\n",
    "PART 2:\n",
    "Isolate the beer_servings column in a list of integers called 'beers'\n",
    "Hint: you can use a list comprehension to do this in one line\n",
    "Expected output:\n",
    "    beers == [0, 89, ..., 32, 64]\n",
    "    len(beers) == 193\n",
    "'''\n",
    "import csv\n",
    "import sys\n",
    "csv_file = '../data/drinks.csv'\n",
    "Beer_List = []\n",
    "with open(csv_file) as csvfile:\n",
    "    reader = csv.DictReader(csvfile)\n",
    "    for row in reader:\n",
    "        Beer_List.append(row['country'])\n",
    "\n",
    "#print beers\n",
    "print len(Beer_List)\n",
    "\n"
   ]
  },
  {
   "cell_type": "code",
   "execution_count": 72,
   "metadata": {
    "collapsed": false
   },
   "outputs": [
    {
     "name": "stdout",
     "output_type": "stream",
     "text": [
      "23\n",
      "45\n"
     ]
    }
   ],
   "source": [
    "'''\n",
    "PART 3:\n",
    "Create separate lists of NA and EU beer servings: 'NA_beers', 'EU_beers'\n",
    "Hint: you can use a list comprehension with a condition\n",
    "Expected output:\n",
    "    NA_beers == [102, 122, ..., 197, 249]\n",
    "    len(NA_beers) == 23\n",
    "    EU_beers == [89, 245, ..., 206, 219]\n",
    "    len(EU_beers) == 45\n",
    "'''\n",
    "import csv\n",
    "import sys\n",
    "csv_file = '../data/drinks.csv'\n",
    "NA_beer = []\n",
    "EU_beer = []\n",
    "with open(csv_file) as csvfile:\n",
    "    reader = csv.DictReader(csvfile)\n",
    "    for row in reader:\n",
    "        if row['continent'] == 'NA':\n",
    "            NA_beer.append(row['country'])\n",
    "        if row['continent'] == 'EU':\n",
    "            EU_beer.append(row['country'])\n",
    "\n",
    "print len(NA_beer)\n",
    "print len(EU_beer)"
   ]
  },
  {
   "cell_type": "code",
   "execution_count": null,
   "metadata": {
    "collapsed": true
   },
   "outputs": [],
   "source": []
  }
 ],
 "metadata": {
  "kernelspec": {
   "display_name": "Python 2",
   "language": "python",
   "name": "python2"
  },
  "language_info": {
   "codemirror_mode": {
    "name": "ipython",
    "version": 2
   },
   "file_extension": ".py",
   "mimetype": "text/x-python",
   "name": "python",
   "nbconvert_exporter": "python",
   "pygments_lexer": "ipython2",
   "version": "2.7.9"
  }
 },
 "nbformat": 4,
 "nbformat_minor": 0
}
